{
 "cells": [
  {
   "cell_type": "code",
   "execution_count": 1,
   "id": "96dd5c7a",
   "metadata": {},
   "outputs": [],
   "source": [
    "from word_extraction import PDF_Document"
   ]
  },
  {
   "cell_type": "code",
   "execution_count": 2,
   "id": "60281dee",
   "metadata": {},
   "outputs": [],
   "source": [
    "# Atiyah-Macdonald\n",
    "data = \"data/\"\n",
    "pdf_file = \"pdf/hartshorne/Hartshorne_Algebraic_Geometry.pdf\"\n",
    "\n",
    "hartshorne = PDF_Document(pdf_file, data)"
   ]
  },
  {
   "cell_type": "code",
   "execution_count": 3,
   "id": "2ec824ee",
   "metadata": {},
   "outputs": [],
   "source": [
    "hartshorne.generate_word_data()"
   ]
  },
  {
   "cell_type": "code",
   "execution_count": null,
   "id": "e5ac5138",
   "metadata": {},
   "outputs": [],
   "source": []
  }
 ],
 "metadata": {
  "kernelspec": {
   "display_name": "Python 3 (ipykernel)",
   "language": "python",
   "name": "python3"
  },
  "language_info": {
   "codemirror_mode": {
    "name": "ipython",
    "version": 3
   },
   "file_extension": ".py",
   "mimetype": "text/x-python",
   "name": "python",
   "nbconvert_exporter": "python",
   "pygments_lexer": "ipython3",
   "version": "3.9.6"
  }
 },
 "nbformat": 4,
 "nbformat_minor": 5
}
